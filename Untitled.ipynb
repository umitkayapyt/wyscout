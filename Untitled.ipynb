{
 "cells": [
  {
   "cell_type": "code",
   "execution_count": null,
   "id": "774aa1f1-1ddd-4294-994f-1304fdfd2c95",
   "metadata": {},
   "outputs": [],
   "source": []
  },
  {
   "cell_type": "code",
   "execution_count": 4,
   "id": "c637035b-f702-4c64-9f91-909bbd077e50",
   "metadata": {},
   "outputs": [],
   "source": [
    "from selenium.common.exceptions import NoSuchElementException, StaleElementReferenceException\n",
    "from selenium.webdriver.support.ui import Select # WebDriverWait\n",
    "from webdriver_manager.chrome import ChromeDriverManager\n",
    "from selenium.webdriver.chrome.service import Service\n",
    "\n",
    "# from selenium.webdriver.support import expected_conditions\n",
    "# from selenium.webdriver.chrome.service import Service\n",
    "from selenium import webdriver\n",
    "from selenium.webdriver.common.by import By\n",
    "# from selenium.webdriver.common.keys import Keys\n",
    "from selenium.webdriver.chrome.options import Options\n",
    "# import chromedriver_autoinstaller\n",
    "\n",
    "# from tqdm import tqdm\n",
    "from time import sleep, strftime\n",
    "from locale import setlocale, LC_ALL\n",
    "from pandas import DataFrame\n",
    "from pathlib import Path\n",
    "from bs4 import BeautifulSoup\n",
    "from sys import argv, exit\n",
    "from os import path\n",
    "\n",
    "import re"
   ]
  },
  {
   "cell_type": "code",
   "execution_count": 5,
   "id": "689e9cda-0de3-40cd-9d02-c37eafa9593c",
   "metadata": {},
   "outputs": [],
   "source": [
    "Site = 'https://platform.wyscout.com/app/'\n",
    "userName = 'b_avicenna_t@hotmail.com'\n",
    "password = 'FqeSs8N@kgVjS!7'"
   ]
  },
  {
   "cell_type": "code",
   "execution_count": 22,
   "id": "7f97359c-1bd8-4cd5-83cf-3de07342f058",
   "metadata": {
    "tags": []
   },
   "outputs": [],
   "source": [
    "opt = webdriver.ChromeOptions()\n",
    "opt.add_experimental_option('excludeSwitches', ['enable-logging'])\n",
    "opt.add_argument(\"--start-maximized\")\n",
    "driver = webdriver.Chrome(options=opt)\n",
    "driver.get(Site)\n"
   ]
  },
  {
   "cell_type": "code",
   "execution_count": 23,
   "id": "01d9a532-fdf5-46d4-9e84-f743cfcebcf3",
   "metadata": {},
   "outputs": [],
   "source": [
    "kullaniciADIxpath   = '/html/body/div[1]/div/div[2]/div[2]/div/div[2]/div/div/div[1]/div[2]/div[1]/div[2]/input'\n",
    "kullaniciSIFRExpath = '/html/body/div[1]/div/div[2]/div[2]/div/div[2]/div/div/div[1]/div[2]/div[2]/div[2]/input'\n",
    "Signinxpath         = '/html/body/div[1]/div/div[2]/div[2]/div/div[2]/div/div/div[1]/div[2]/div[3]/div/button'\n",
    "buttonLANGUExpath   = '/html/body/div[1]/div/div[1]/div[5]/div[1]/div[2]/a'\n",
    "buttonTURKCExpath   = '/html/body/div[13]/div[1]/div/div/div/div[8]/div'\n",
    "\n",
    "kullaniciADIinput   = driver.find_element(By.XPATH, kullaniciADIxpath)\n",
    "kullaniciSIFREinput = driver.find_element(By.XPATH, kullaniciSIFRExpath)\n",
    "\n",
    "kullaniciADIinput.send_keys(userName)\n",
    "sleep(0.1)\n",
    "kullaniciSIFREinput.send_keys(password)\n",
    "sleep(0.1)\n",
    "Signin = driver.find_element(By.XPATH, Signinxpath)\n",
    "Signin.click()\n",
    "sleep(6.1)\n",
    "btnlngue = driver.find_element(By.XPATH, buttonLANGUExpath)\n",
    "btnlngue.click()\n",
    "sleep(3.1)\n",
    "btntrkce = driver.find_element(By.XPATH, buttonTURKCExpath)\n",
    "btntrkce.click()\n",
    "driver.refresh()\n",
    "sleep(6.1)\n"
   ]
  },
  {
   "cell_type": "code",
   "execution_count": null,
   "id": "c260f277-4fb2-4d14-9d69-e0633e5a8136",
   "metadata": {},
   "outputs": [],
   "source": []
  },
  {
   "cell_type": "code",
   "execution_count": 124,
   "id": "46cc0f9a-8a3b-4ca5-8b78-9da1f8e3038f",
   "metadata": {},
   "outputs": [
    {
     "name": "stdout",
     "output_type": "stream",
     "text": [
      "['Afghanistan', 'Afghanistan U16', 'Afghanistan U17', 'Afghanistan U19', 'Afghanistan U20', 'Afghanistan U23']\n"
     ]
    }
   ],
   "source": [
    "scout_soup=BeautifulSoup(driver.page_source,\"html.parser\")\n",
    "tk = [element.text.strip() for element in scout_soup.find_all( \"div\", attrs={\"class\":\"gears-list-item aengine-model team\", \"itemkey\": True})]\n",
    "print(tk)"
   ]
  },
  {
   "cell_type": "code",
   "execution_count": 125,
   "id": "5c27b41f-1d6b-4f25-a8d5-97c3958d7648",
   "metadata": {},
   "outputs": [
    {
     "name": "stdout",
     "output_type": "stream",
     "text": [
      "['Afghanistan', 'Afghanistan U16', 'Afghanistan U17', 'Afghanistan U19', 'Afghanistan U20', 'Afghanistan U23', 'De Abasin Sape', 'De Maiwand Atalan', 'De Spin Ghar Bazan', 'Mawjhai Amu', 'Oqaban Hindukush', 'Shaheen Asmayee', 'Simorgh Alborz', 'Toofaan Harirod']\n"
     ]
    }
   ],
   "source": [
    "scout_soup=BeautifulSoup(driver.page_source,\"html.parser\")\n",
    "tk = [element.text.strip() for element in scout_soup.find_all( \"div\", attrs={\"class\":\"gears-list-item aengine-model team\",\"itemkey\": True})]\n",
    "print(tk)"
   ]
  },
  {
   "cell_type": "code",
   "execution_count": 123,
   "id": "f16fdcad-c76f-4551-bb50-afb9582d3eab",
   "metadata": {},
   "outputs": [
    {
     "name": "stdout",
     "output_type": "stream",
     "text": [
      "['Germany', 'Germany U16', 'Germany U17', 'Germany U18', 'Germany U19', 'Germany U20', 'Germany U21', 'Germany U23', 'De Abasin Sape', 'De Maiwand Atalan', 'De Spin Ghar Bazan', 'Mawjhai Amu', 'Oqaban Hindukush', 'Shaheen Asmayee', 'Simorgh Alborz', 'Toofaan Harirod']\n"
     ]
    }
   ],
   "source": [
    "scout_soup=BeautifulSoup(driver.page_source,\"html.parser\")\n",
    "tk = [element.text.strip() for element in scout_soup.find_all( \"div\", attrs={\"class\":\"gears-list-item aengine-model team\", \"itemkey\": True})]\n",
    "print(tk)"
   ]
  },
  {
   "cell_type": "code",
   "execution_count": null,
   "id": "531b8884-6a8d-44da-a920-e121ffe382cb",
   "metadata": {},
   "outputs": [],
   "source": []
  }
 ],
 "metadata": {
  "kernelspec": {
   "display_name": "Python 3 (ipykernel)",
   "language": "python",
   "name": "python3"
  },
  "language_info": {
   "codemirror_mode": {
    "name": "ipython",
    "version": 3
   },
   "file_extension": ".py",
   "mimetype": "text/x-python",
   "name": "python",
   "nbconvert_exporter": "python",
   "pygments_lexer": "ipython3",
   "version": "3.9.15"
  }
 },
 "nbformat": 4,
 "nbformat_minor": 5
}
